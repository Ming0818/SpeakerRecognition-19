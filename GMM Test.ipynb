{
 "cells": [
  {
   "cell_type": "code",
   "execution_count": 94,
   "metadata": {
    "scrolled": false
   },
   "outputs": [
    {
     "name": "stdout",
     "output_type": "stream",
     "text": [
      "Automatically created module for IPython interactive environment\n"
     ]
    },
    {
     "name": "stderr",
     "output_type": "stream",
     "text": [
      "D:\\Programs\\Anaconda\\lib\\site-packages\\sklearn\\ensemble\\weight_boosting.py:29: DeprecationWarning: numpy.core.umath_tests is an internal NumPy module and should not be imported. It will be removed in a future NumPy release.\n",
      "  from numpy.core.umath_tests import inner1d\n"
     ]
    }
   ],
   "source": [
    "print(__doc__)\n",
    "\n",
    "# Author: Ron Weiss <ronweiss@gmail.com>, Gael Varoquaux\n",
    "# License: BSD 3 clause\n",
    "\n",
    "# $Id$\n",
    "\n",
    "import matplotlib.pyplot as plt\n",
    "import matplotlib as mpl\n",
    "import numpy as np\n",
    "\n",
    "from sklearn import datasets, svm\n",
    "from sklearn.cross_validation import StratifiedKFold\n",
    "from sklearn.externals.six.moves import xrange\n",
    "from sklearn.mixture import GaussianMixture\n",
    "from sklearn.metrics import precision_score, recall_score, accuracy_score, roc_curve, auc\n",
    "from sklearn.model_selection import train_test_split\n",
    "from sklearn.ensemble import RandomForestClassifier, VotingClassifier\n",
    "\n",
    "from tqdm import tqdm_notebook as tqdm\n",
    "from scipy import interp\n",
    "import pickle"
   ]
  },
  {
   "cell_type": "code",
   "execution_count": 39,
   "metadata": {},
   "outputs": [],
   "source": [
    "classes = 40"
   ]
  },
  {
   "cell_type": "code",
   "execution_count": 69,
   "metadata": {},
   "outputs": [],
   "source": [
    "# sample class\n",
    "class VoiceSample:\n",
    "    path = ''\n",
    "    personId = -1\n",
    "    feature = []\n",
    "    \n",
    "    def __init__(self, path):\n",
    "        self.path = path\n",
    "        self.personId = getPerson(path)\n",
    "        self.getAvgMFCC()\n",
    "        \n",
    "    def __str__(self):\n",
    "        return self.path\n",
    "    \n",
    "    def getAvgMFCC(self):\n",
    "        y, sr = librosa.load(self.path,sr=None)\n",
    "        mfccs = librosa.feature.mfcc(y=y, sr=sr,n_mfcc=13)\n",
    "        self.feature = np.append(np.average(mfccs, 1), np.std(mfccs, 1))\n",
    "        \n",
    "def getTrainFeature(data):\n",
    "    return np.asarray([data[i].feature for i in xrange(len(data))])"
   ]
  },
  {
   "cell_type": "code",
   "execution_count": 73,
   "metadata": {},
   "outputs": [],
   "source": [
    "data = pickle.load(open(\"data\", \"rb\"))\n",
    "\n",
    "[X_train, X_test, y_train, y_test] = data\n",
    "X_train = getTrainFeature(X_train)\n",
    "X_test = getTrainFeature(X_test)\n",
    "y_train = np.asarray(y_train)\n",
    "y_test = np.asarray(y_test)"
   ]
  },
  {
   "cell_type": "code",
   "execution_count": 75,
   "metadata": {},
   "outputs": [],
   "source": [
    "classifier = GaussianMixture(n_components=classes, init_params='random')"
   ]
  },
  {
   "cell_type": "code",
   "execution_count": 76,
   "metadata": {},
   "outputs": [],
   "source": [
    "classifier.means_init  = np.array([X_train[y_train == i].mean(axis=0)\n",
    "                                  for i in xrange(classes)])"
   ]
  },
  {
   "cell_type": "code",
   "execution_count": 77,
   "metadata": {},
   "outputs": [
    {
     "name": "stdout",
     "output_type": "stream",
     "text": [
      "0.6979490366687383\n"
     ]
    }
   ],
   "source": [
    "classifier.fit(X_train)\n",
    "y_pred = classifier.predict(X_test)\n",
    "accuracy = accuracy_score(y_test,y_pred)\n",
    "print accuracy"
   ]
  },
  {
   "cell_type": "code",
   "execution_count": 132,
   "metadata": {},
   "outputs": [
    {
     "name": "stdout",
     "output_type": "stream",
     "text": [
      "0.13362336855189558\n"
     ]
    }
   ],
   "source": [
    "clf =svm.LinearSVC()\n",
    "clf.fit(X_train, y_train) \n",
    "y_pred = clf.predict(X_test)\n",
    "accuracy = accuracy_score(y_test,y_pred)\n",
    "print accuracy"
   ]
  },
  {
   "cell_type": "code",
   "execution_count": null,
   "metadata": {},
   "outputs": [],
   "source": [
    "clf =svm.linear(kernel = \"rbf\", gamma=0.0008, probability = True)\n",
    "clf.fit(X_train, y_train) \n",
    "y_pred = clf.predict(X_test)\n",
    "accuracy = accuracy_score(y_test,y_pred)\n",
    "print accuracy"
   ]
  },
  {
   "cell_type": "code",
   "execution_count": 123,
   "metadata": {},
   "outputs": [
    {
     "data": {
      "text/plain": [
       "VotingClassifier(estimators=[('gmm', GaussianMixture(covariance_type='full', init_params='random', max_iter=100,\n",
       "        means_init=array([[-278.74985,   93.12025, ...,    8.4625 ,    7.88457],\n",
       "       [-276.80688,  117.84109, ...,    7.8641 ,    8.30051],\n",
       "       ...,\n",
       "       [-272.15145,  100.50239, ...,    8.57759, ...',\n",
       "  max_iter=-1, probability=True, random_state=None, shrinking=True,\n",
       "  tol=0.001, verbose=False))],\n",
       "         flatten_transform=None, n_jobs=1, voting='soft', weights=None)"
      ]
     },
     "execution_count": 123,
     "metadata": {},
     "output_type": "execute_result"
    }
   ],
   "source": [
    "# new gmm\n",
    "clf_gmm = GaussianMixture(n_components=classes, init_params='random')\n",
    "clf_gmm.means_init  = np.array([X_train[y_train == i].mean(axis=0)\n",
    "                                  for i in xrange(classes)])\n",
    "clf_svm = svm.SVC(kernel = \"rbf\", gamma=0.0008, probability = True)\n",
    "\n",
    "eclf = VotingClassifier(estimators=[('gmm', clf_gmm), ('svm', clf_svm)], voting='soft')\n",
    "# eclf = VotingClassifier(estimators=[('gmm', classifier), ('svm', clf)], voting='hard')\n",
    "eclf.fit(X_train, y_train)"
   ]
  },
  {
   "cell_type": "code",
   "execution_count": 124,
   "metadata": {},
   "outputs": [
    {
     "name": "stderr",
     "output_type": "stream",
     "text": [
      "D:\\Programs\\Anaconda\\lib\\site-packages\\sklearn\\preprocessing\\label.py:151: DeprecationWarning: The truth value of an empty array is ambiguous. Returning False, but in future this will result in an error. Use `array.size > 0` to check that an array is not empty.\n",
      "  if diff:\n"
     ]
    },
    {
     "name": "stdout",
     "output_type": "stream",
     "text": [
      "0.7228091982597887\n"
     ]
    }
   ],
   "source": [
    "y_pred = eclf.predict(X_test)\n",
    "accuracy = accuracy_score(y_test,y_pred)\n",
    "print accuracy"
   ]
  },
  {
   "cell_type": "code",
   "execution_count": 127,
   "metadata": {},
   "outputs": [
    {
     "name": "stderr",
     "output_type": "stream",
     "text": [
      "D:\\Programs\\Anaconda\\lib\\site-packages\\sklearn\\preprocessing\\label.py:151: DeprecationWarning: The truth value of an empty array is ambiguous. Returning False, but in future this will result in an error. Use `array.size > 0` to check that an array is not empty.\n",
      "  if diff:\n"
     ]
    },
    {
     "name": "stdout",
     "output_type": "stream",
     "text": [
      "0.001 , 0.7333747669359851\n"
     ]
    },
    {
     "name": "stderr",
     "output_type": "stream",
     "text": [
      "D:\\Programs\\Anaconda\\lib\\site-packages\\sklearn\\preprocessing\\label.py:151: DeprecationWarning: The truth value of an empty array is ambiguous. Returning False, but in future this will result in an error. Use `array.size > 0` to check that an array is not empty.\n",
      "  if diff:\n"
     ]
    },
    {
     "name": "stdout",
     "output_type": "stream",
     "text": [
      "0.0008 , 0.7165941578620261\n"
     ]
    },
    {
     "name": "stderr",
     "output_type": "stream",
     "text": [
      "D:\\Programs\\Anaconda\\lib\\site-packages\\sklearn\\preprocessing\\label.py:151: DeprecationWarning: The truth value of an empty array is ambiguous. Returning False, but in future this will result in an error. Use `array.size > 0` to check that an array is not empty.\n",
      "  if diff:\n"
     ]
    },
    {
     "name": "stdout",
     "output_type": "stream",
     "text": [
      "0.0012 , 0.7315102548166563\n"
     ]
    }
   ],
   "source": [
    "def gammaTest(ll):\n",
    "    for g in ll: \n",
    "        clf_gmm = GaussianMixture(n_components=classes, init_params='random')\n",
    "        clf_gmm.means_init  = np.array([X_train[y_train == i].mean(axis=0)\n",
    "                                          for i in xrange(classes)])\n",
    "        clf_svm = svm.SVC(kernel = \"rbf\", gamma=g, probability = True)\n",
    "\n",
    "        eclf = VotingClassifier(estimators=[('gmm', clf_gmm), ('svm', clf_svm)], voting='soft')\n",
    "        # eclf = VotingClassifier(estimators=[('gmm', classifier), ('svm', clf)], voting='hard')\n",
    "        eclf.fit(X_train, y_train)\n",
    "        \n",
    "        y_pred = eclf.predict(X_test)\n",
    "        accuracy = accuracy_score(y_test,y_pred)\n",
    "        print g,\",\",accuracy\n",
    "        \n",
    "gammaTest([ 0.001, 0.0008, 0.0012])"
   ]
  },
  {
   "cell_type": "code",
   "execution_count": null,
   "metadata": {},
   "outputs": [],
   "source": []
  },
  {
   "cell_type": "code",
   "execution_count": 64,
   "metadata": {},
   "outputs": [],
   "source": [
    "# Break up the dataset into non-overlapping training (75%) and testing\n",
    "# (25%) sets.\n",
    "skf = StratifiedKFold(iris.target, n_folds=4)\n",
    "# Only take the first fold.\n",
    "train_index, test_index = next(iter(skf))\n",
    "\n",
    "\n",
    "X_train = iris.data[train_index]\n",
    "y_train = iris.target[train_index]\n",
    "X_test = iris.data[test_index]\n",
    "y_test = iris.target[test_index]"
   ]
  },
  {
   "cell_type": "code",
   "execution_count": null,
   "metadata": {},
   "outputs": [],
   "source": [
    "n_classes = len(np.unique(y_train))\n",
    "\n",
    "# Try GMMs using different types of covariances.\n",
    "classifiers = dict((covar_type, GMM(n_components=n_classes,\n",
    "                    covariance_type=covar_type, init_params='wc', n_iter=20))\n",
    "                   for covar_type in ['spherical', 'diag', 'tied', 'full'])\n",
    "\n",
    "n_classifiers = len(classifiers)\n",
    "\n",
    "plt.figure(figsize=(3 * n_classifiers / 2, 6))\n",
    "plt.subplots_adjust(bottom=.01, top=0.95, hspace=.15, wspace=.05,\n",
    "                    left=.01, right=.99)\n",
    "\n",
    "\n",
    "for index, (name, classifier) in enumerate(classifiers.items()):\n",
    "    # Since we have class labels for the training data, we can\n",
    "    # initialize the GMM parameters in a supervised manner.\n",
    "    classifier.means_ = np.array([X_train[y_train == i].mean(axis=0)\n",
    "                                  for i in xrange(n_classes)])\n",
    "\n",
    "    # Train the other parameters using the EM algorithm.\n",
    "    classifier.fit(X_train)\n",
    "\n",
    "    h = plt.subplot(2, n_classifiers / 2, index + 1)\n",
    "    make_ellipses(classifier, h)\n",
    "\n",
    "    for n, color in enumerate('rgb'):\n",
    "        data = iris.data[iris.target == n]\n",
    "        plt.scatter(data[:, 0], data[:, 1], 0.8, color=color,\n",
    "                    label=iris.target_names[n])\n",
    "    # Plot the test data with crosses\n",
    "    for n, color in enumerate('rgb'):\n",
    "        data = X_test[y_test == n]\n",
    "        plt.plot(data[:, 0], data[:, 1], 'x', color=color)\n",
    "\n",
    "    y_train_pred = classifier.predict(X_train)\n",
    "    train_accuracy = np.mean(y_train_pred.ravel() == y_train.ravel()) * 100\n",
    "    plt.text(0.05, 0.9, 'Train accuracy: %.1f' % train_accuracy,\n",
    "             transform=h.transAxes)\n",
    "\n",
    "    y_test_pred = classifier.predict(X_test)\n",
    "    test_accuracy = np.mean(y_test_pred.ravel() == y_test.ravel()) * 100\n",
    "    plt.text(0.05, 0.8, 'Test accuracy: %.1f' % test_accuracy,\n",
    "             transform=h.transAxes)\n",
    "\n",
    "    plt.xticks(())\n",
    "    plt.yticks(())\n",
    "    plt.title(name)\n",
    "\n",
    "plt.legend(loc='lower right', prop=dict(size=12))\n",
    "\n",
    "\n",
    "plt.show()"
   ]
  }
 ],
 "metadata": {
  "kernelspec": {
   "display_name": "Python 2",
   "language": "python",
   "name": "python2"
  },
  "language_info": {
   "codemirror_mode": {
    "name": "ipython",
    "version": 2
   },
   "file_extension": ".py",
   "mimetype": "text/x-python",
   "name": "python",
   "nbconvert_exporter": "python",
   "pygments_lexer": "ipython2",
   "version": "2.7.15"
  }
 },
 "nbformat": 4,
 "nbformat_minor": 2
}
